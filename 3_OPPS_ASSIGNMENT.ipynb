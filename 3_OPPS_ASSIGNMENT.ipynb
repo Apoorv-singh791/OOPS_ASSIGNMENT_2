{
 "cells": [
  {
   "cell_type": "markdown",
   "id": "f138e575-0183-421d-aed8-3b0228adced4",
   "metadata": {},
   "source": [
    "Q1. What is Abstraction in OOps? Explain with an example.\n"
   ]
  },
  {
   "cell_type": "markdown",
   "id": "e10a5be6-06e4-4474-b88c-5fc7ce64be01",
   "metadata": {},
   "source": [
    "A1. abstraction in OOPS enables the hiding of the internal details of an object from the outside world, so that the focus is on what the object does, rather than how it does it . It's main goal is to handle complexity by hiding unnecessary details from the user. That enables the user to implement more complex logic on top of the provided abstraction without understanding or even thinking about all the hidden complexity "
   ]
  },
  {
   "cell_type": "code",
   "execution_count": 22,
   "id": "46ce494e-927d-40f6-ba41-80c5c40956ed",
   "metadata": {},
   "outputs": [],
   "source": [
    "import abc\n",
    "class apoorv:\n",
    "    \n",
    "    @abc.abstractmethod\n",
    "    def rank(self):\n",
    "        pass"
   ]
  },
  {
   "cell_type": "code",
   "execution_count": 23,
   "id": "c11b9744-d636-4174-bb13-045baf4ed320",
   "metadata": {},
   "outputs": [],
   "source": [
    "class first_class(apoorv):\n",
    "    def rank(self):\n",
    "        return 'student rank is good'"
   ]
  },
  {
   "cell_type": "code",
   "execution_count": 24,
   "id": "52efbaa3-0c5c-4ddb-9f95-2f0c7f6247f5",
   "metadata": {},
   "outputs": [],
   "source": [
    "class second_class(apoorv):\n",
    "    def rank(self):\n",
    "        return \"rank of the student is not good\""
   ]
  },
  {
   "cell_type": "code",
   "execution_count": 25,
   "id": "83a144c6-dfd6-440e-b16a-f5e43a0f47b6",
   "metadata": {},
   "outputs": [
    {
     "data": {
      "text/plain": [
       "'student rank is good'"
      ]
     },
     "execution_count": 25,
     "metadata": {},
     "output_type": "execute_result"
    }
   ],
   "source": [
    "obj1=first_class()\n",
    "obj1. rank()"
   ]
  },
  {
   "cell_type": "code",
   "execution_count": 26,
   "id": "55d3df1d-7b19-4fa4-aa39-2b216dd5dc60",
   "metadata": {},
   "outputs": [
    {
     "data": {
      "text/plain": [
       "'rank of the student is not good'"
      ]
     },
     "execution_count": 26,
     "metadata": {},
     "output_type": "execute_result"
    }
   ],
   "source": [
    "obj2=second_class()\n",
    "obj2.rank()"
   ]
  },
  {
   "cell_type": "markdown",
   "id": "c850cb1d-cd30-487e-9b7c-07b7281eb8f6",
   "metadata": {},
   "source": [
    "Q2. Differentiate between Abstraction and Encapsulation. Explain with an example.\n"
   ]
  },
  {
   "cell_type": "markdown",
   "id": "26d8bfab-8669-454a-b569-521da7fe9a84",
   "metadata": {},
   "source": [
    "A2->  Abstraction and Encapsulation are two important concepts in Object-Oriented Programming (OOP). Abstraction is the process of hiding the implementation details and showing only the functionality to the user. It is used to manage complexity by hiding unnecessary details from the user. Encapsulation is the process of wrapping data and methods into a single unit or object. It is used to protect data from unauthorized access by making it private and providing public methods to access it.\n",
    "\n",
    "For example, let’s say you have a class called Car. The class has properties like make, model, year, etc. These properties are private and can only be accessed through public methods like getMake(), getModel(), etc. This is an example of encapsulation because the data is hidden from the user and can only be accessed through public methods.\n",
    "\n",
    "On the other hand, abstraction is used to hide the implementation details of a class. For example, let’s say you have an abstract class called Shape. The class has an abstract method called draw(). This method is implemented by its subclasses like Circle, Rectangle, etc. The user only knows that there is a method called draw() which can be called on any shape object. The implementation details of how each shape is drawn are hidden from the user."
   ]
  },
  {
   "cell_type": "markdown",
   "id": "b3093471-40c8-4749-ae13-2df90b2e9ac5",
   "metadata": {},
   "source": [
    "Q3. What is abc module in python? Why is it used?\n"
   ]
  },
  {
   "cell_type": "markdown",
   "id": "1ea0be13-c117-42f6-93e7-10eb914f711a",
   "metadata": {},
   "source": [
    "A3 ->The abc module in Python provides the infrastructure for defining abstract base classes (ABCs) in Python. It is used to define abstract classes that can be subclassed by other classes. Abstract classes are classes that cannot be instantiated and are only meant to be subclassed.\n",
    "\n",
    "The abc module provides the ABCMeta metaclass which is used to define abstract classes. The abstractmethod decorator is used to define abstract methods in the abstract class. Any class that inherits from an abstract class must implement all the abstract methods defined in the abstract class."
   ]
  },
  {
   "cell_type": "markdown",
   "id": "241c9cb6-210c-4f32-9ad6-438c67b1a6fc",
   "metadata": {},
   "source": [
    "Q4. How can we achieve data abstraction?\n"
   ]
  },
  {
   "cell_type": "markdown",
   "id": "eb1f9041-b67a-4581-b9f0-49e01d21f0b4",
   "metadata": {},
   "source": [
    "A4 -> In Python, data abstraction can be achieved by using classes and objects. A class is a blueprint for creating objects. to achive data abstraction we have to import abc module first and then create a class which will act as a bluprint in that class we have to use abc.abstractmethod to make a method use by another method . in abstract classes we do define the functionality of method ,it is defined by another class whose sub class is abstract class"
   ]
  },
  {
   "cell_type": "markdown",
   "id": "6eab25b4-7330-4baa-b256-73f3aa39100e",
   "metadata": {},
   "source": [
    "Q5. Can we create an instance of an abstract class? Explain your answer.\n"
   ]
  },
  {
   "cell_type": "markdown",
   "id": "7d9d3f70-9b8e-471b-82f5-2a0f1a38ed31",
   "metadata": {},
   "source": [
    "A5 -> contains one or more abstract methods. An abstract method is a method that is declared but does not have an implementation. Abstract classes are used to define a common interface for a set of subclasses. They cannot be instantiated directly but can be subclassed or we can say abstract class is just a blueprint for another se of subclass and makin it's instance means allocating memory to the blueprint which is not correct . hence we can't create instance of abstract class ."
   ]
  },
  {
   "cell_type": "code",
   "execution_count": null,
   "id": "aae655bb-196b-43de-89e0-ebae07c05e5f",
   "metadata": {},
   "outputs": [],
   "source": []
  }
 ],
 "metadata": {
  "kernelspec": {
   "display_name": "Python 3 (ipykernel)",
   "language": "python",
   "name": "python3"
  },
  "language_info": {
   "codemirror_mode": {
    "name": "ipython",
    "version": 3
   },
   "file_extension": ".py",
   "mimetype": "text/x-python",
   "name": "python",
   "nbconvert_exporter": "python",
   "pygments_lexer": "ipython3",
   "version": "3.10.8"
  }
 },
 "nbformat": 4,
 "nbformat_minor": 5
}
